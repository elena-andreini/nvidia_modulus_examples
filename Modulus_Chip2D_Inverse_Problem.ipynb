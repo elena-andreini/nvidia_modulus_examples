{
  "cells": [
    {
      "cell_type": "code",
      "execution_count": null,
      "metadata": {
        "id": "T5SjaOMYGNSO"
      },
      "outputs": [],
      "source": [
        "! pip3 install matplotlib transforms3d future typing numpy quadpy\\\n",
        "             numpy-stl==2.16.3 h5py sympy==1.5.1 termcolor psutil\\\n",
        "             symengine==0.6.1 numba Cython chaospy torch_optimizer\\\n",
        "             vtk chaospy termcolor omegaconf hydra-core==1.1.1 einops\\\n",
        "             timm tensorboard pandas orthopy ndim functorch pint"
      ]
    },
    {
      "cell_type": "code",
      "execution_count": null,
      "metadata": {
        "id": "cg494tgNdlIb"
      },
      "outputs": [],
      "source": [
        "# Load the TensorBoard notebook extension\n",
        "%load_ext tensorboard"
      ]
    },
    {
      "cell_type": "code",
      "execution_count": null,
      "metadata": {
        "id": "nsQ25HPzMdlp"
      },
      "outputs": [],
      "source": [
        "from google.colab import drive\n",
        "drive.mount('/content/drive')"
      ]
    },
    {
      "cell_type": "code",
      "execution_count": null,
      "metadata": {
        "id": "-C2EvDVtHOY0"
      },
      "outputs": [],
      "source": [
        "! mkdir modulus\n",
        "! cp /content/drive/MyDrive/modulus.7z /content/modulus/modulus.7z"
      ]
    },
    {
      "cell_type": "code",
      "execution_count": null,
      "metadata": {
        "id": "NZGjwq6TM96Z"
      },
      "outputs": [],
      "source": [
        "#! sudo apt install p7zip-full"
      ]
    },
    {
      "cell_type": "code",
      "execution_count": null,
      "metadata": {
        "id": "6WyPshCBM1Xs"
      },
      "outputs": [],
      "source": [
        "! 7z x /content/modulus/modulus.7z -o/content/modulus"
      ]
    },
    {
      "cell_type": "code",
      "execution_count": null,
      "metadata": {
        "id": "vPHvV0meO8Xw"
      },
      "outputs": [],
      "source": [
        "%cd /content/modulus/modulus"
      ]
    },
    {
      "cell_type": "code",
      "execution_count": null,
      "metadata": {
        "id": "sXWdon_-QXRK"
      },
      "outputs": [],
      "source": [
        "! python setup.py install"
      ]
    },
    {
      "cell_type": "code",
      "execution_count": null,
      "metadata": {
        "id": "reYq1FGd_DVZ"
      },
      "outputs": [],
      "source": [
        "! mkdir /content/modulus_example\n",
        "! mkdir /content/modulus_example/outputs\n",
        "! mkdir /content/modulus_example/openfoam\n",
        "! mkdir /content/modulus_example/conf\n",
        "! cp /content/drive/MyDrive/Modulus_Chip2D/config_inverse.yaml /content/modulus_example/conf/config_inverse.yaml\n",
        "! cp /content/drive/MyDrive/Modulus_Chip2D/2D_chip_fluid0.csv /content/modulus_example/openfoam/2D_chip_fluid0.csv\n",
        "! cp /content/drive/MyDrive/Modulus_Chip2D/chip_2d_geom.png /content/modulus_example/chip_2d_geom.png"
      ]
    },
    {
      "cell_type": "code",
      "source": [
        "%cd /content/modulus_example"
      ],
      "metadata": {
        "id": "GlP1u3JMmf6h"
      },
      "execution_count": null,
      "outputs": []
    },
    {
      "cell_type": "markdown",
      "source": [
        "The problem is defined as follows:\n",
        "\n",
        "A 2D chip is placed inside a 2D channel. The flow enters the inlet (a parabolic profile is used with $u_{max}=1.5\\text{ m/s}$) and exits through the outlet which is a $0 Pa$. All the other walls are treated as no-slip. The kinematic viscosity $(\\nu)$ for the flow is $0.02 \\text{ }m^2/s$ and the density $(\\rho)$ is $1 \\text{ }kg/m^3$. The problem is shown in the figure below.\n",
        "\n",
        "<img src=\"/content/modulus_example/chip_2d_geom.png\" alt=\"Drawing\" style=\"width: 800px;\"/>\n",
        "\n",
        "<img src=\"https://drive.google.com/uc?id=1Hln7X2cg6-Psw5WrVvUDROygI1fTzNpM\" alt=\"Drawing\" style=\"width: 800px;\"/>\n",
        "\n",
        "\n"
      ],
      "metadata": {
        "id": "vfvrGBv8RztZ"
      }
    },
    {
      "cell_type": "code",
      "execution_count": null,
      "metadata": {
        "id": "KyX21K-2Wj9w"
      },
      "outputs": [],
      "source": [
        "import numpy as np\n",
        "from sympy import Symbol, Eq\n",
        "\n",
        "import torch\n",
        "import numpy as np\n",
        "from sympy import Symbol, Eq\n",
        "\n",
        "import modulus\n",
        "from modulus.hydra import to_absolute_path, ModulusConfig, instantiate_arch\n",
        "from modulus.utils.io import csv_to_dict\n",
        "from modulus.solver import Solver\n",
        "from modulus.domain import Domain\n",
        "from modulus.geometry.primitives_2d import Rectangle, Line, Channel2D\n",
        "from modulus.utils.sympy.functions import parabola\n",
        "from modulus.eq.pdes.navier_stokes import NavierStokes\n",
        "from modulus.eq.pdes.basic import NormalDotVec\n",
        "from modulus.domain.constraint import (\n",
        "    PointwiseConstraint,\n",
        ")\n",
        "from modulus.domain.monitor import PointwiseMonitor\n",
        "from modulus.key import Key\n",
        "from modulus.node import Node\n",
        "from modulus.domain.validator import PointwiseValidator\n",
        "from modulus.key import Key\n",
        "from modulus.node import Node\n",
        "from modulus.utils.io.plotter import ValidatorPlotter\n"
      ]
    },
    {
      "cell_type": "code",
      "source": [
        "from modulus.hydra.utils import compose, to_yaml"
      ],
      "metadata": {
        "id": "gfhr7au8UkBx"
      },
      "execution_count": null,
      "outputs": []
    },
    {
      "cell_type": "code",
      "execution_count": null,
      "metadata": {
        "id": "5HdNtKjKD0sP"
      },
      "outputs": [],
      "source": [
        "cfg = compose(config_path=\"conf\", config_name=\"config_inverse\")"
      ]
    },
    {
      "cell_type": "code",
      "execution_count": null,
      "metadata": {
        "id": "gABqIngFEhgX"
      },
      "outputs": [],
      "source": [
        "cfg.network_dir = 'outputs'    # Set the network directory for checkpoints\n",
        "print(to_yaml(cfg))"
      ]
    },
    {
      "cell_type": "code",
      "execution_count": null,
      "metadata": {
        "id": "KXDpiiR7CtKU"
      },
      "outputs": [],
      "source": [
        "# make list of nodes to unroll graph on\n",
        "ns = NavierStokes(nu=\"nu\", rho=1.0, dim=2, time=False)\n",
        "flow_net = instantiate_arch(\n",
        "    input_keys=[Key(\"x\"), Key(\"y\")],\n",
        "    output_keys=[Key(\"u\"), Key(\"v\"), Key(\"p\")],\n",
        "    cfg=cfg.arch.fully_connected,\n",
        ")\n",
        "inverse_net = instantiate_arch(\n",
        "    input_keys=[Key(\"x\"), Key(\"y\")],\n",
        "    output_keys=[Key(\"nu\")],\n",
        "    cfg=cfg.arch.fully_connected,\n",
        ")\n",
        "\n",
        "nodes = (\n",
        "    ns.make_nodes(\n",
        "        detach_names=[\"u\",\n",
        "                      \"u__x\",\n",
        "                      \"u__x__x\",\n",
        "                      \"u__y\",\n",
        "                      \"u__y__y\",\n",
        "                      \"v\",\n",
        "                      \"v__x\",\n",
        "                      \"v__x__x\",\n",
        "                      \"v__y\",\n",
        "                      \"v__y__y\",\n",
        "                      \"p\",\n",
        "                      \"p__x\",\n",
        "                      \"p__y\",\n",
        "                      ]\n",
        "    )\n",
        "    + [flow_net.make_node(name=\"flow_network\", jit=cfg.jit)]\n",
        "    + [inverse_net.make_node(name=\"inverse_network\", jit=cfg.jit)]\n",
        ")\n",
        "\n",
        "# add constraints to solver\n",
        "# data\n",
        "mapping = {\"Points:0\": \"x\", \"Points:1\": \"y\", \"U:0\": \"u\", \"U:1\": \"v\", \"p\": \"p\"}\n",
        "openfoam_var = csv_to_dict(to_absolute_path(\"openfoam/2D_chip_fluid0.csv\"), mapping)\n",
        "openfoam_var[\"x\"] -= 2.5  # normalize pos\n",
        "openfoam_var[\"y\"] -= 0.5\n",
        "openfoam_invar_numpy = {\n",
        "    key: value for key, value in openfoam_var.items() if key in [\"x\", \"y\"]\n",
        "}\n",
        "openfoam_outvar_numpy = {\n",
        "    key: value for key, value in openfoam_var.items() if key in [\"u\", \"v\", \"p\"]\n",
        "}\n",
        "openfoam_outvar_numpy[\"continuity\"] = np.zeros_like(openfoam_outvar_numpy[\"u\"])\n",
        "openfoam_outvar_numpy[\"momentum_x\"] = np.zeros_like(openfoam_outvar_numpy[\"u\"])\n",
        "openfoam_outvar_numpy[\"momentum_y\"] = np.zeros_like(openfoam_outvar_numpy[\"u\"])\n",
        "\n",
        "# make domain\n",
        "domain = Domain()\n",
        "\n",
        "# data and pdes\n",
        "data = PointwiseConstraint.from_numpy(\n",
        "    nodes=nodes,\n",
        "    invar=openfoam_invar_numpy,\n",
        "    outvar=openfoam_outvar_numpy,\n",
        "    batch_size=cfg.batch_size.data,\n",
        ")\n",
        "domain.add_constraint(data, name=\"Data\")\n",
        "\n",
        "# add monitors\n",
        "monitor = PointwiseMonitor(\n",
        "    openfoam_invar_numpy,\n",
        "    output_names=[\"nu\"],\n",
        "    metrics={\"mean_nu\": lambda var: torch.mean(var[\"nu\"])},\n",
        "    nodes=nodes,\n",
        ")\n",
        "domain.add_monitor(monitor)\n"
      ]
    },
    {
      "cell_type": "code",
      "execution_count": null,
      "metadata": {
        "id": "LyrGyMkqqu18"
      },
      "outputs": [],
      "source": [
        "%tensorboard --logdir outputs/"
      ]
    },
    {
      "cell_type": "code",
      "execution_count": null,
      "metadata": {
        "id": "hARibXjXGdax"
      },
      "outputs": [],
      "source": [
        "# make solver\n",
        "slv = Solver(cfg, domain)\n",
        "\n"
      ]
    },
    {
      "cell_type": "code",
      "execution_count": null,
      "metadata": {
        "id": "skxKNN1gGnuK"
      },
      "outputs": [],
      "source": [
        "# start solver\n",
        "slv.solve()"
      ]
    },
    {
      "cell_type": "code",
      "execution_count": null,
      "metadata": {
        "id": "hRMdOFwTGqS1"
      },
      "outputs": [],
      "source": []
    }
  ],
  "metadata": {
    "accelerator": "GPU",
    "colab": {
      "provenance": [],
      "private_outputs": true
    },
    "gpuClass": "standard",
    "kernelspec": {
      "display_name": "Python 3",
      "name": "python3"
    },
    "language_info": {
      "name": "python"
    }
  },
  "nbformat": 4,
  "nbformat_minor": 0
}